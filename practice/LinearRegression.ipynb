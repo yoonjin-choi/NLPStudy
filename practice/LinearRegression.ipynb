{
  "nbformat": 4,
  "nbformat_minor": 0,
  "metadata": {
    "colab": {
      "name": "LinearRegression.ipynb",
      "provenance": [],
      "collapsed_sections": []
    },
    "kernelspec": {
      "name": "python3",
      "display_name": "Python 3"
    }
  },
  "cells": [
    {
      "cell_type": "code",
      "metadata": {
        "id": "mtgbPoB6--Kj"
      },
      "source": [
        "import torch"
      ],
      "execution_count": null,
      "outputs": []
    },
    {
      "cell_type": "code",
      "metadata": {
        "id": "qFPjYFnE_JYU"
      },
      "source": [
        "x_train = torch.FloatTensor([[1],[2],[3]])\r\n",
        "y_train = torch.FloatTensor([[1],[2],[3]])"
      ],
      "execution_count": null,
      "outputs": []
    },
    {
      "cell_type": "code",
      "metadata": {
        "id": "SZM63dDs_XwK"
      },
      "source": [
        "# remove bias - simple logistic\r\n",
        "W= torch.zeros(1,requires_grad=True)\r\n",
        "#lr - learning rate\r\n",
        "lr = 0.1"
      ],
      "execution_count": null,
      "outputs": []
    },
    {
      "cell_type": "code",
      "metadata": {
        "id": "wROYyYhu_j8q"
      },
      "source": [
        "\r\n",
        "optimizer=torch.optim.SGD([W],lr=0.02)"
      ],
      "execution_count": null,
      "outputs": []
    },
    {
      "cell_type": "code",
      "metadata": {
        "colab": {
          "base_uri": "https://localhost:8080/"
        },
        "id": "IUxJqDIv_qij",
        "outputId": "08b7386e-4694-47a0-9564-c6fc104ed9f7"
      },
      "source": [
        "nb_epochs =10\r\n",
        "for epoch in range(1,nb_epochs+1):\r\n",
        "  hypothesis=x_train*W # W* x = H(x)\r\n",
        "  # cost\r\n",
        "  cost = torch.mean((hypothesis - y_train)**2)\r\n",
        "\r\n",
        "  print('W: {:.3f}, Cost: {:.6f}'.format(W.item(),cost.item()))\r\n",
        "  #optimizer로 H(x)를 개선\r\n",
        "  optimizer.zero_grad()\r\n",
        "  cost.backward()\r\n",
        "  optimizer.step()\r\n",
        "  #W의값이 1에 유사, cost는 감소"
      ],
      "execution_count": null,
      "outputs": [
        {
          "output_type": "stream",
          "text": [
            "W: 1.313, Cost: 0.458484\n",
            "W: 1.255, Cost: 0.303292\n",
            "W: 1.207, Cost: 0.200631\n",
            "W: 1.169, Cost: 0.132720\n",
            "W: 1.137, Cost: 0.087796\n",
            "W: 1.112, Cost: 0.058078\n",
            "W: 1.091, Cost: 0.038419\n",
            "W: 1.074, Cost: 0.025415\n",
            "W: 1.060, Cost: 0.016812\n",
            "W: 1.049, Cost: 0.011121\n"
          ],
          "name": "stdout"
        }
      ]
    },
    {
      "cell_type": "code",
      "metadata": {
        "id": "k6ClNMSaB630"
      },
      "source": [
        "###########Multivariate Linear Regression"
      ],
      "execution_count": null,
      "outputs": []
    },
    {
      "cell_type": "code",
      "metadata": {
        "id": "3HpH89QCUug2"
      },
      "source": [
        "x_train = torch.FloatTensor([[73,80,75],\r\n",
        "                            [93,88,93],\r\n",
        "                            [89,91,80],\r\n",
        "                            [96,98,100],\r\n",
        "                            [73,66,70]])"
      ],
      "execution_count": null,
      "outputs": []
    },
    {
      "cell_type": "code",
      "metadata": {
        "id": "1ZK2LVidVRbn"
      },
      "source": [
        "y_train=torch.FloatTensor([[152],[185],[180],[196],[142]])"
      ],
      "execution_count": null,
      "outputs": []
    },
    {
      "cell_type": "code",
      "metadata": {
        "id": "Ci9dEcGRVk0U"
      },
      "source": [
        "W= torch.zeros((3,1),requires_grad=True)\r\n",
        "b= torch.zeros(1,requires_grad=True)"
      ],
      "execution_count": null,
      "outputs": []
    },
    {
      "cell_type": "code",
      "metadata": {
        "id": "wvnZ0JLLZiJ7"
      },
      "source": [
        "#multivariate 에서 nn.module 활용가능\r\n",
        "import torch.nn as nn\r\n",
        "class MultivariateLinearRegressionModel(nn.Module):\r\n",
        "    def __init__(self):\r\n",
        "        super().__init__()\r\n",
        "        self.linear = nn.Linear(3, 1)\r\n",
        "\r\n",
        "    def forward(self, x): #hypothesis의 계산 담당.\r\n",
        "        return self.linear(x)"
      ],
      "execution_count": null,
      "outputs": []
    },
    {
      "cell_type": "code",
      "metadata": {
        "id": "uGEDFll0Xryn"
      },
      "source": [
        "model=MultivariateLinearRegressionModel()"
      ],
      "execution_count": null,
      "outputs": []
    },
    {
      "cell_type": "code",
      "metadata": {
        "id": "btuxkhWybX6a"
      },
      "source": [
        "import torch.optim as optim\r\n",
        "optimizer = optim.SGD(model.parameters(),lr=1e-5)"
      ],
      "execution_count": null,
      "outputs": []
    },
    {
      "cell_type": "code",
      "metadata": {
        "colab": {
          "base_uri": "https://localhost:8080/"
        },
        "id": "F5iq6W9SWhj-",
        "outputId": "4d7b0148-d13a-427d-b864-b434add44125"
      },
      "source": [
        "import torch.nn.functional as F\r\n",
        "nb_epochs =20\r\n",
        "for epoch in range(1,nb_epochs+1):\r\n",
        "  \r\n",
        "  # H(x) 계산\r\n",
        "    prediction = model(x_train)\r\n",
        "    \r\n",
        "    # cost 계산\r\n",
        "    cost = F.mse_loss(prediction, y_train) #pytorch 의 cost function \r\n",
        "    \r\n",
        "    # cost로 H(x) 개선\r\n",
        "    optimizer.zero_grad()\r\n",
        "    cost.backward()\r\n",
        "    optimizer.step()\r\n",
        "    \r\n",
        "    # 20번마다 로그 출력\r\n",
        "    print('Epoch {:4d}/{} Cost: {:.6f}'.format(\r\n",
        "        epoch, nb_epochs, cost.item()\r\n",
        "    ))"
      ],
      "execution_count": null,
      "outputs": [
        {
          "output_type": "stream",
          "text": [
            "Epoch    1/20 Cost: 36152.757812\n",
            "Epoch    2/20 Cost: 11621.185547\n",
            "Epoch    3/20 Cost: 3736.476562\n",
            "Epoch    4/20 Cost: 1202.245361\n",
            "Epoch    5/20 Cost: 387.716431\n",
            "Epoch    6/20 Cost: 125.917419\n",
            "Epoch    7/20 Cost: 41.772259\n",
            "Epoch    8/20 Cost: 14.726381\n",
            "Epoch    9/20 Cost: 6.033214\n",
            "Epoch   10/20 Cost: 3.238666\n",
            "Epoch   11/20 Cost: 2.339988\n",
            "Epoch   12/20 Cost: 2.050709\n",
            "Epoch   13/20 Cost: 1.957255\n",
            "Epoch   14/20 Cost: 1.926782\n",
            "Epoch   15/20 Cost: 1.916527\n",
            "Epoch   16/20 Cost: 1.912760\n",
            "Epoch   17/20 Cost: 1.911113\n",
            "Epoch   18/20 Cost: 1.910117\n",
            "Epoch   19/20 Cost: 1.909338\n",
            "Epoch   20/20 Cost: 1.908632\n"
          ],
          "name": "stdout"
        }
      ]
    },
    {
      "cell_type": "code",
      "metadata": {
        "id": "oBqw_dK9W6Ce"
      },
      "source": [
        "s"
      ],
      "execution_count": null,
      "outputs": []
    }
  ]
}